{
 "cells": [
  {
   "cell_type": "markdown",
   "id": "85f4a249",
   "metadata": {},
   "source": [
    "## Import Libraries"
   ]
  },
  {
   "cell_type": "code",
   "execution_count": 117,
   "id": "1081d86f",
   "metadata": {},
   "outputs": [],
   "source": [
    "import ee\n",
    "import geemap\n",
    "\n",
    "# Initailize earth engine\n",
    "ee.Initialize()"
   ]
  },
  {
   "cell_type": "markdown",
   "id": "68041a2e",
   "metadata": {},
   "source": [
    "## Create a Interactive map"
   ]
  },
  {
   "cell_type": "code",
   "execution_count": 118,
   "id": "09abffc8",
   "metadata": {},
   "outputs": [
    {
     "data": {
      "application/vnd.jupyter.widget-view+json": {
       "model_id": "caf0688d549b480a9f1b8b9cc71f40c3",
       "version_major": 2,
       "version_minor": 0
      },
      "text/plain": [
       "Map(center=[23.78, -100.78], controls=(WidgetControl(options=['position'], widget=HBox(children=(ToggleButton(…"
      ]
     },
     "metadata": {},
     "output_type": "display_data"
    }
   ],
   "source": [
    "Map = geemap.Map()\n",
    "Map.setCenter(-100.78, 23.78, 5)\n",
    "Map"
   ]
  },
  {
   "cell_type": "markdown",
   "id": "e90d91ed",
   "metadata": {},
   "source": [
    "## Import a FeatureCollection"
   ]
  },
  {
   "cell_type": "code",
   "execution_count": 119,
   "id": "351c3dcd",
   "metadata": {},
   "outputs": [],
   "source": [
    "# Import a shapefile with countries\n",
    "countries = ee.FeatureCollection('users/giswqs/public/countries')\n",
    "\n",
    "# Select a Region of Interest (ROI)\n",
    "roi = countries.filter(ee.Filter.eq('id', 'MEX'))\n",
    "# Map.addLayer(roi, {}, 'Mexico')"
   ]
  },
  {
   "cell_type": "markdown",
   "id": "62d18c85",
   "metadata": {},
   "source": [
    "## Import an ImageCollection"
   ]
  },
  {
   "cell_type": "code",
   "execution_count": 120,
   "id": "013c5d70",
   "metadata": {},
   "outputs": [],
   "source": [
    "# Select the start and end date\n",
    "start_date = '2020-03-01'\n",
    "end_date = '2020-05-31'\n",
    "\n",
    "# Create the collection (Ex. Sentinel-5P_Nitrogen_Dioxide)\n",
    "Collection = ee.ImageCollection('COPERNICUS/S5P/OFFL/L3_NO2') \\\n",
    "    .select('NO2_column_number_density') \\\n",
    "    .filterBounds(roi) \\\n",
    "    .filterDate(start_date, end_date) \\\n",
    "\n",
    "# Clip the collection with the ROI\n",
    "NO2 = Collection.max().clip(roi)"
   ]
  },
  {
   "cell_type": "code",
   "execution_count": 121,
   "id": "ba1f958e",
   "metadata": {},
   "outputs": [],
   "source": [
    "# Create the visualization paragrams\n",
    "visParams = {\n",
    "  'min': 0,\n",
    "  'max': 0.0002,\n",
    "  'palette': ['#000000', '#0000FF', '#800080', '#00FFFF', '#00FF00', '#FFFF00', '#FF0000'],\n",
    "  'opacity': 0.5\n",
    "}\n",
    "\n",
    "# Add the layer\n",
    "Map.addLayer(NO2, visParams, 'NO2_Measurement')"
   ]
  },
  {
   "cell_type": "markdown",
   "id": "c79c836b",
   "metadata": {},
   "source": [
    "## Create a legend bar"
   ]
  },
  {
   "cell_type": "code",
   "execution_count": 122,
   "id": "fc779020",
   "metadata": {},
   "outputs": [
    {
     "data": {
      "application/vnd.jupyter.widget-view+json": {
       "model_id": "caf0688d549b480a9f1b8b9cc71f40c3",
       "version_major": 2,
       "version_minor": 0
      },
      "text/plain": [
       "Map(center=[23.78, -100.78], controls=(WidgetControl(options=['position'], widget=HBox(children=(ToggleButton(…"
      ]
     },
     "metadata": {},
     "output_type": "display_data"
    }
   ],
   "source": [
    "# Define the legend keys and colors\n",
    "legend_keys = ['0', '3.3x10^-5', '6.6x10^-5', '1x10^-4', '1.33x10^-4', '1.66x10^-4', '2x10^-4']\n",
    "legend_colors = ['#000000', '#0000FF', '#800080', '#00FFFF', '#00FF00', '#FFFF00', '#FF0000']\n",
    "\n",
    "# Add to the map\n",
    "Map.add_legend(legend_keys=legend_keys, legend_colors=legend_colors, position='bottomright')\n",
    "Map"
   ]
  },
  {
   "cell_type": "code",
   "execution_count": null,
   "id": "ba660dc1",
   "metadata": {},
   "outputs": [],
   "source": []
  }
 ],
 "metadata": {
  "kernelspec": {
   "display_name": "Python 3",
   "language": "python",
   "name": "python3"
  },
  "language_info": {
   "codemirror_mode": {
    "name": "ipython",
    "version": 3
   },
   "file_extension": ".py",
   "mimetype": "text/x-python",
   "name": "python",
   "nbconvert_exporter": "python",
   "pygments_lexer": "ipython3",
   "version": "3.6.9"
  }
 },
 "nbformat": 4,
 "nbformat_minor": 5
}
