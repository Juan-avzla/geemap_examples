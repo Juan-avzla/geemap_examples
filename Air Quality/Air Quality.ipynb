{
 "cells": [
  {
   "cell_type": "markdown",
   "id": "8d5ca22f",
   "metadata": {
    "ExecuteTime": {
     "end_time": "2021-04-30T23:39:16.810115Z",
     "start_time": "2021-04-30T23:39:16.796109Z"
    }
   },
   "source": [
    "# Importacion de librerias"
   ]
  },
  {
   "cell_type": "code",
   "execution_count": 1,
   "id": "2957329e",
   "metadata": {
    "ExecuteTime": {
     "end_time": "2021-05-05T02:28:41.875571Z",
     "start_time": "2021-05-05T02:28:17.733824Z"
    },
    "hide_input": false
   },
   "outputs": [],
   "source": [
    "import ee\n",
    "import geemap"
   ]
  },
  {
   "cell_type": "markdown",
   "id": "78bc2f82",
   "metadata": {},
   "source": [
    "# Crear un mapa interactivo con geemap"
   ]
  },
  {
   "cell_type": "code",
   "execution_count": 2,
   "id": "4d4ea070",
   "metadata": {
    "ExecuteTime": {
     "end_time": "2021-05-05T02:28:52.948486Z",
     "start_time": "2021-05-05T02:28:47.509575Z"
    },
    "scrolled": false
   },
   "outputs": [
    {
     "data": {
      "application/vnd.jupyter.widget-view+json": {
       "model_id": "7bdba56a30e14929bf0372c0ab486ba4",
       "version_major": 2,
       "version_minor": 0
      },
      "text/plain": [
       "Map(center=[25, -103], controls=(WidgetControl(options=['position'], widget=HBox(children=(ToggleButton(value=…"
      ]
     },
     "metadata": {},
     "output_type": "display_data"
    }
   ],
   "source": [
    "Map = geemap.Map(center=[25,-103], zoom=5)\n",
    "Map"
   ]
  },
  {
   "cell_type": "markdown",
   "id": "0a2e4692",
   "metadata": {},
   "source": [
    "# Añadir datos de Earth Engine"
   ]
  },
  {
   "cell_type": "code",
   "execution_count": 3,
   "id": "d5bb3c82",
   "metadata": {
    "ExecuteTime": {
     "end_time": "2021-05-05T02:29:02.394287Z",
     "start_time": "2021-05-05T02:29:01.316795Z"
    },
    "hide_input": false
   },
   "outputs": [],
   "source": [
    "NO2 = ee.ImageCollection('COPERNICUS/S5P/OFFL/L3_NO2') \\\n",
    "    .select('NO2_column_number_density') \\\n",
    "    .filterDate('2021-04-01', '2021-04-30')\n",
    "\n",
    "vis = {\n",
    "    'min' : 0.00004,\n",
    "    'max' : 0.00008,\n",
    "    'opacity' : 0.25,\n",
    "    'palette' : ['black', 'blue', 'purple', 'cyan', 'green', 'yellow', 'red']\n",
    "}\n",
    "\n",
    "Map.addLayer(NO2, vis, 'NO2 ABRIL 2021')\n",
    "\n",
    "\n",
    "# https://www.youtube.com/watch?v=fw7SIySi5JY"
   ]
  },
  {
   "cell_type": "code",
   "execution_count": null,
   "id": "b0b1aa25",
   "metadata": {},
   "outputs": [],
   "source": []
  }
 ],
 "metadata": {
  "kernelspec": {
   "display_name": "Python 3",
   "language": "python",
   "name": "python3"
  },
  "language_info": {
   "codemirror_mode": {
    "name": "ipython",
    "version": 3
   },
   "file_extension": ".py",
   "mimetype": "text/x-python",
   "name": "python",
   "nbconvert_exporter": "python",
   "pygments_lexer": "ipython3",
   "version": "3.9.4"
  },
  "toc": {
   "base_numbering": "1",
   "nav_menu": {},
   "number_sections": true,
   "sideBar": true,
   "skip_h1_title": false,
   "title_cell": "Table of Contents",
   "title_sidebar": "Contents",
   "toc_cell": false,
   "toc_position": {
    "height": "calc(100% - 180px)",
    "left": "10px",
    "top": "150px",
    "width": "276.188px"
   },
   "toc_section_display": true,
   "toc_window_display": true
  },
  "varInspector": {
   "cols": {
    "lenName": 16,
    "lenType": 16,
    "lenVar": 40
   },
   "kernels_config": {
    "python": {
     "delete_cmd_postfix": "",
     "delete_cmd_prefix": "del ",
     "library": "var_list.py",
     "varRefreshCmd": "print(var_dic_list())"
    },
    "r": {
     "delete_cmd_postfix": ") ",
     "delete_cmd_prefix": "rm(",
     "library": "var_list.r",
     "varRefreshCmd": "cat(var_dic_list()) "
    }
   },
   "position": {
    "height": "367px",
    "left": "992px",
    "right": "20px",
    "top": "120px",
    "width": "354px"
   },
   "types_to_exclude": [
    "module",
    "function",
    "builtin_function_or_method",
    "instance",
    "_Feature"
   ],
   "window_display": false
  }
 },
 "nbformat": 4,
 "nbformat_minor": 5
}
