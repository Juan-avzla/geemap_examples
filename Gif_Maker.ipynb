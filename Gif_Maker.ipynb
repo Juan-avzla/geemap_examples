{
 "cells": [
  {
   "cell_type": "markdown",
   "id": "899ac0ba",
   "metadata": {
    "ExecuteTime": {
     "end_time": "2021-05-01T08:49:22.273776Z",
     "start_time": "2021-05-01T08:49:22.263773Z"
    }
   },
   "source": [
    "# Import Libraries"
   ]
  },
  {
   "cell_type": "code",
   "execution_count": 4,
   "id": "5f49ae14",
   "metadata": {
    "ExecuteTime": {
     "end_time": "2021-05-01T22:01:06.549844Z",
     "start_time": "2021-05-01T22:00:51.146994Z"
    }
   },
   "outputs": [],
   "source": [
    "import geemap\n",
    "import os\n",
    "import ee"
   ]
  },
  {
   "cell_type": "markdown",
   "id": "12e70aba",
   "metadata": {
    "ExecuteTime": {
     "end_time": "2021-05-01T08:50:09.455702Z",
     "start_time": "2021-05-01T08:50:09.443702Z"
    }
   },
   "source": [
    "# Create a interactive map"
   ]
  },
  {
   "cell_type": "code",
   "execution_count": 307,
   "id": "e6f3aa42",
   "metadata": {
    "ExecuteTime": {
     "end_time": "2021-05-02T04:37:29.362154Z",
     "start_time": "2021-05-02T04:37:28.507315Z"
    }
   },
   "outputs": [
    {
     "data": {
      "application/vnd.jupyter.widget-view+json": {
       "model_id": "527dd75cca3f4549a9fe9d80ffb3f9c3",
       "version_major": 2,
       "version_minor": 0
      },
      "text/plain": [
       "Map(center=[18.423182, -93.1980127], controls=(WidgetControl(options=['position'], widget=HBox(children=(Toggl…"
      ]
     },
     "metadata": {},
     "output_type": "display_data"
    }
   ],
   "source": [
    "Map = geemap.Map(center=(18.423182, -93.1980127), zoom = 15)\n",
    "# Add a basemap\n",
    "Map.add_basemap('HYBRID')\n",
    "\n",
    "Map"
   ]
  },
  {
   "cell_type": "markdown",
   "id": "47b2a676",
   "metadata": {},
   "source": [
    "# Create an area of interest (Roi)"
   ]
  },
  {
   "cell_type": "code",
   "execution_count": 312,
   "id": "750ec982",
   "metadata": {
    "ExecuteTime": {
     "end_time": "2021-05-02T04:40:00.810924Z",
     "start_time": "2021-05-02T04:40:00.387910Z"
    }
   },
   "outputs": [],
   "source": [
    "# Create a Roi (Region of interst)\n",
    "\n",
    "# Dos Bocas, Tabasco\n",
    "roi = ee.Geometry.Polygon(\n",
    "    [[[-93.21457597595585,18.412719723750588],\n",
    "      [-93.18084451538456,18.412719723750588],\n",
    "      [-93.18084451538456,18.4390217556039],\n",
    "      [-93.21457597595585,18.4390217556039],\n",
    "      [-93.21457597595585,18.412719723750588]]], None, False)\n",
    "\n",
    "\n",
    "Map.addLayer(roi)"
   ]
  },
  {
   "cell_type": "markdown",
   "id": "e9097577",
   "metadata": {},
   "source": [
    "# Create an image collection and the visualization parameters"
   ]
  },
  {
   "cell_type": "code",
   "execution_count": 251,
   "id": "c6ceaca5",
   "metadata": {
    "ExecuteTime": {
     "end_time": "2021-05-02T03:12:15.291153Z",
     "start_time": "2021-05-02T03:12:15.277146Z"
    }
   },
   "outputs": [],
   "source": [
    "# Create a cloud mask function\n",
    "def Cloudmask(image):\n",
    "# Exclude the pixels that represent clouds and cirrus on the image\n",
    "# with the QA60 Band\n",
    "    qa = image.select('QA60')\n",
    "    cloud_type = 1 << 10\n",
    "    cirrus_type = 1 << 11\n",
    "    mask = qa.bitwiseAnd(cloud_type).eq(0) \\\n",
    "    .And(qa.bitwiseAnd(cirrus_type).eq(0))\n",
    "    return image.updateMask(mask)\n"
   ]
  },
  {
   "cell_type": "code",
   "execution_count": 252,
   "id": "d976acaa",
   "metadata": {
    "ExecuteTime": {
     "end_time": "2021-05-02T03:12:16.219651Z",
     "start_time": "2021-05-02T03:12:16.193642Z"
    }
   },
   "outputs": [],
   "source": [
    "# Create an Image Collection\n",
    "collection = ee.ImageCollection('COPERNICUS/S2_SR') \\\n",
    "  .filterBounds(roi) \\\n",
    "  .filterDate('2018-07-01', '2021-04-30') \\\n",
    "  .filterMetadata ('CLOUDY_PIXEL_PERCENTAGE', 'Less_Than', 5) \\\n",
    "  .filterMetadata ('NODATA_PIXEL_PERCENTAGE', 'Less_Than', 50) \\\n",
    "  .map(Cloudmask)\n"
   ]
  },
  {
   "cell_type": "code",
   "execution_count": 253,
   "id": "78ab8cd5",
   "metadata": {
    "ExecuteTime": {
     "end_time": "2021-05-02T03:12:17.454908Z",
     "start_time": "2021-05-02T03:12:17.134000Z"
    }
   },
   "outputs": [
    {
     "name": "stdout",
     "output_type": "stream",
     "text": [
      "29\n"
     ]
    }
   ],
   "source": [
    "# Verify the number of images\n",
    "print(collection.size().getInfo())"
   ]
  },
  {
   "cell_type": "code",
   "execution_count": 254,
   "id": "a0d84eac",
   "metadata": {
    "ExecuteTime": {
     "end_time": "2021-05-02T03:12:19.871770Z",
     "start_time": "2021-05-02T03:12:19.417770Z"
    }
   },
   "outputs": [
    {
     "name": "stdout",
     "output_type": "stream",
     "text": [
      "['2018/12/22', '2018/12/27', '2019/01/01', '2019/02/15', '2019/02/20', '2019/03/02', '2019/03/02', '2019/03/12', '2019/04/06', '2019/04/11', '2019/05/06', '2019/05/21', '2019/11/27', '2020/02/05', '2020/02/10', '2020/03/01', '2020/03/26', '2020/03/31', '2020/05/15', '2020/05/25', '2020/06/29', '2020/09/02', '2020/12/31', '2021/01/25', '2021/02/04', '2021/03/01', '2021/03/16', '2021/03/26', '2021/04/10']\n"
     ]
    }
   ],
   "source": [
    "# Get the dates in 'YYYY/MM/dd' for each image in the collection\n",
    "dates =geemap.image_dates(collection, date_format='YYYY/MM/dd').getInfo()\n",
    "\n",
    "print(dates)\n"
   ]
  },
  {
   "cell_type": "code",
   "execution_count": 255,
   "id": "1dff1156",
   "metadata": {
    "ExecuteTime": {
     "end_time": "2021-05-02T03:12:21.153137Z",
     "start_time": "2021-05-02T03:12:20.559516Z"
    }
   },
   "outputs": [],
   "source": [
    "# Generate the visualization parameters\n",
    "first_image = collection.first()\n",
    "\n",
    "vis = {\n",
    "    'bands': ['B4', 'B3', 'B2'],\n",
    "    'min': 0,\n",
    "    'max': 3000,\n",
    "    'gamma': [1, 1, 1]\n",
    "}\n",
    "\n",
    "Map.addLayer(first_image, vis, 'First image')"
   ]
  },
  {
   "cell_type": "code",
   "execution_count": 256,
   "id": "7a840df9",
   "metadata": {
    "ExecuteTime": {
     "end_time": "2021-05-02T03:12:23.534995Z",
     "start_time": "2021-05-02T03:12:23.519365Z"
    }
   },
   "outputs": [],
   "source": [
    "# Define arguments for animation function parameters.\n",
    "video_args = {\n",
    "  'dimensions': 900,\n",
    "  'region': roi,\n",
    "  'framesPerSecond': 2,\n",
    "  'bands': ['B4', 'B3', 'B2'],\n",
    "  'min': 0,\n",
    "  'max': 3000,\n",
    "  'gamma': [1, 1, 1]\n",
    "}"
   ]
  },
  {
   "cell_type": "markdown",
   "id": "e2d6698a",
   "metadata": {},
   "source": [
    "# Saving the result"
   ]
  },
  {
   "cell_type": "code",
   "execution_count": 257,
   "id": "bb482375",
   "metadata": {
    "ExecuteTime": {
     "end_time": "2021-05-02T03:12:26.029787Z",
     "start_time": "2021-05-02T03:12:26.015780Z"
    }
   },
   "outputs": [],
   "source": [
    "# Save the result in \"Downloads\" folder\n",
    "work_dir = os.path.join(os.path.expanduser(\"~\"), 'Downloads')\n",
    "if not os.path.exists(work_dir):\n",
    "    os.makedirs(work_dir)\n",
    "# Create a name for the result    \n",
    "out_gif = os.path.join(work_dir, \"Sentinel-2_Dos_Bocas.gif\")"
   ]
  },
  {
   "cell_type": "code",
   "execution_count": 258,
   "id": "77bc2b2e",
   "metadata": {
    "ExecuteTime": {
     "end_time": "2021-05-02T03:12:47.048271Z",
     "start_time": "2021-05-02T03:12:26.784641Z"
    }
   },
   "outputs": [
    {
     "name": "stdout",
     "output_type": "stream",
     "text": [
      "Generating URL...\n",
      "Downloading GIF image from https://earthengine.googleapis.com/v1alpha/projects/earthengine-legacy/videoThumbnails/0c33829ac7b7fd910586b03c218eac48-886fbce47af147d25a5f0b1d2d19d0d8:getPixels\n",
      "Please wait ...\n",
      "The GIF image has been saved to: C:\\Users\\Juan Alexis\\Downloads\\Sentinel-2_Dos_Bocas.gif\n"
     ]
    }
   ],
   "source": [
    "# Download the result from the earth engine servers\n",
    "geemap.download_ee_video(collection, video_args, out_gif)\n"
   ]
  },
  {
   "cell_type": "markdown",
   "id": "c7bf1c0b",
   "metadata": {},
   "source": [
    "# Add text to Gif"
   ]
  },
  {
   "cell_type": "code",
   "execution_count": 259,
   "id": "4e08782c",
   "metadata": {
    "ExecuteTime": {
     "end_time": "2021-05-02T03:12:50.562615Z",
     "start_time": "2021-05-02T03:12:50.176829Z"
    }
   },
   "outputs": [
    {
     "data": {
      "application/vnd.jupyter.widget-view+json": {
       "model_id": "ae98564a9dfa4d46821b9b614789d8fa",
       "version_major": 2,
       "version_minor": 0
      },
      "text/plain": [
       "Output()"
      ]
     },
     "metadata": {},
     "output_type": "display_data"
    }
   ],
   "source": [
    "geemap.show_image(out_gif)"
   ]
  },
  {
   "cell_type": "code",
   "execution_count": 260,
   "id": "f516c4d0",
   "metadata": {
    "ExecuteTime": {
     "end_time": "2021-05-02T03:12:56.886656Z",
     "start_time": "2021-05-02T03:12:53.424999Z"
    }
   },
   "outputs": [],
   "source": [
    "# Add dates to gif image\n",
    "texted_gif = os.path.join(work_dir, \"Sentinel-2_Dos_Bocas-txt.gif\")\n",
    "geemap.add_text_to_gif(out_gif, texted_gif, xy=('3%', '5%'), text_sequence=dates, font_size=30, font_color='#ffffff', add_progress_bar=False)"
   ]
  },
  {
   "cell_type": "code",
   "execution_count": 261,
   "id": "4c1ce3b6",
   "metadata": {
    "ExecuteTime": {
     "end_time": "2021-05-02T03:13:01.702683Z",
     "start_time": "2021-05-02T03:12:57.518056Z"
    }
   },
   "outputs": [],
   "source": [
    "# Add a title\n",
    "label = 'Refinería Dos Bocas, Tabasco'\n",
    "geemap.add_text_to_gif(texted_gif, texted_gif, xy=('2%', '90%'), text_sequence=label, font_size=30, font_color='#ffffff', progress_bar_color='cyan', duration= 500)"
   ]
  },
  {
   "cell_type": "code",
   "execution_count": 262,
   "id": "91aeccbb",
   "metadata": {
    "ExecuteTime": {
     "end_time": "2021-05-02T03:13:02.965789Z",
     "start_time": "2021-05-02T03:13:02.474567Z"
    }
   },
   "outputs": [
    {
     "data": {
      "application/vnd.jupyter.widget-view+json": {
       "model_id": "91d461d4482344e09c6a753bc46de11d",
       "version_major": 2,
       "version_minor": 0
      },
      "text/plain": [
       "Output()"
      ]
     },
     "metadata": {},
     "output_type": "display_data"
    }
   ],
   "source": [
    "# Show the results\n",
    "geemap.show_image(texted_gif)"
   ]
  }
 ],
 "metadata": {
  "kernelspec": {
   "display_name": "Python 3",
   "language": "python",
   "name": "python3"
  },
  "language_info": {
   "codemirror_mode": {
    "name": "ipython",
    "version": 3
   },
   "file_extension": ".py",
   "mimetype": "text/x-python",
   "name": "python",
   "nbconvert_exporter": "python",
   "pygments_lexer": "ipython3",
   "version": "3.9.4"
  },
  "toc": {
   "base_numbering": 1,
   "nav_menu": {},
   "number_sections": true,
   "sideBar": true,
   "skip_h1_title": false,
   "title_cell": "Table of Contents",
   "title_sidebar": "Contents",
   "toc_cell": false,
   "toc_position": {},
   "toc_section_display": true,
   "toc_window_display": false
  },
  "varInspector": {
   "cols": {
    "lenName": 16,
    "lenType": 16,
    "lenVar": 40
   },
   "kernels_config": {
    "python": {
     "delete_cmd_postfix": "",
     "delete_cmd_prefix": "del ",
     "library": "var_list.py",
     "varRefreshCmd": "print(var_dic_list())"
    },
    "r": {
     "delete_cmd_postfix": ") ",
     "delete_cmd_prefix": "rm(",
     "library": "var_list.r",
     "varRefreshCmd": "cat(var_dic_list()) "
    }
   },
   "position": {
    "height": "458.984px",
    "left": "1162.99px",
    "right": "20px",
    "top": "155.976px",
    "width": "456.973px"
   },
   "types_to_exclude": [
    "module",
    "function",
    "builtin_function_or_method",
    "instance",
    "_Feature"
   ],
   "window_display": false
  }
 },
 "nbformat": 4,
 "nbformat_minor": 5
}
